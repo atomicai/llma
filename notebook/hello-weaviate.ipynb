{
 "cells": [
  {
   "cell_type": "code",
   "execution_count": 129,
   "metadata": {},
   "outputs": [],
   "source": [
    "from llma.etc.schema import Document\n",
    "import numpy as np\n",
    "from loguru import logger\n",
    "from tqdm.autonotebook import tqdm\n",
    "import uuid\n",
    "from typing import Optional, List, Dict, Any\n",
    "import polars as pl\n",
    "from weaviate.classes.query import MetadataQuery"
   ]
  },
  {
   "cell_type": "code",
   "execution_count": 2,
   "metadata": {},
   "outputs": [
    {
     "name": "stdout",
     "output_type": "stream",
     "text": [
      "weaviate-client==4.5.4\n"
     ]
    }
   ],
   "source": [
    "!pip freeze | grep weaviate"
   ]
  },
  {
   "cell_type": "code",
   "execution_count": 4,
   "metadata": {},
   "outputs": [],
   "source": [
    "from transformers import AutoModel, AutoTokenizer\n",
    "from torch import Tensor\n",
    "import torch\n",
    "from torch.functional import F\n",
    "from functools import partial\n",
    "from more_itertools import chunked\n",
    "# from llma.processing import loader, igniset"
   ]
  },
  {
   "cell_type": "code",
   "execution_count": 5,
   "metadata": {},
   "outputs": [],
   "source": [
    "model_name_or_path = \"intfloat/multilingual-e5-base\""
   ]
  },
  {
   "cell_type": "code",
   "execution_count": 6,
   "metadata": {},
   "outputs": [],
   "source": [
    "model = AutoModel.from_pretrained(model_name_or_path)\n",
    "tokenizer = AutoTokenizer.from_pretrained(model_name_or_path)"
   ]
  },
  {
   "cell_type": "code",
   "execution_count": 7,
   "metadata": {},
   "outputs": [],
   "source": [
    "def prefix(x, pref:str):\n",
    "    return pref.strip() + \" \" + x"
   ]
  },
  {
   "cell_type": "code",
   "execution_count": 8,
   "metadata": {},
   "outputs": [],
   "source": [
    "eval_docs = [(\n",
    "    \"What Peeta Meelark told about Katniss ability to shoot  at the dinner before the 74 hunger games begun?\",\n",
    "    \"I have to think about it. I’ve been putting food on the table for four years. That’s no small task. I’m not as good as my father was, but he’d had more practice. I’ve better aim than Gale, but I’ve had more practice. He’s a genius with traps and snares. \\\"I’m all right,\\\" I say.\\n\\\"She’s excellent,\\\" says Peeta.\\n\\\"My father buys her squirrels. He always comments on how the arrows never pierce the body. She hits every one in the eye. It’s the same with the rabbits she sells the butcher. She can even bring down deer.\\\"\",\n",
    "    \"\\\"She’s excellent,\\\" says Peeta.\\n\\\"My father buys her squirrels. He always comments on how the arrows never pierce the body. She hits every one in the eye. It’s the same with the rabbits she sells the butcher. She can even bring down deer.\\\"\"\n",
    "),\n",
    "(\n",
    "    \"Why Katniss Everdeen didn’t want to talk about girl whose tongue had been cut she had seen back in the district twelve with Gale?\",\n",
    "    \"I realize I do want to talk to someone about the girl. Someone who might be able to help me figure out her story. Gale would be my first choice, but it’s unlikely I’ll ever see Gale again. I try to think if telling Peeta could give him any possible advantage over me, but I don’t see how. Maybe sharing a confidence will actually make him believe I see him as a friend.\\nBesides, the idea of the girl with her maimed tongue frightens me. She has reminded me why I’m here. Not to model flashy costumes and eat delicacies. But to die a bloody death while the crowds urge on my killer.\",\n",
    "    \"She has reminded me why I’m here. Not to model flashy costumes and eat delicacies. But to die a bloody death while the crowds urge on my killer\"\n",
    "),\n",
    "(\n",
    "    \"Who is an Avox in the book \\\"Hunger games\\\" by S.Collins?\",\n",
    "    \"When I look back, the four adults are watching me like hawks.\\\"Don’t be ridiculous, Katniss. How could you possibly know an Avox?\\\" snaps Effie. \\n\\\"The very thought.\\\"\\n\\\"What’s an Avox?\\\" I ask stupidly.\\n\\\"Someone who committed a crime. They cut her tongue so she can’t speak,\\\" says Haymitch. \\n\\\"She’s probably a traitor of some sort. Not likely you’d know her.\\\"\\n\\\"And even if you did, you’re not to speak to one of them unless it’s to give an order\\\", says Effie. \\\"Of course, you don’t really know her.\\\"\",\n",
    "    \"\\\"Someone who committed a crime. They cut her tongue so she can’t speak,\\\" says Haymitch. \\n\\\"She’s probably a traitor of some sort. Not likely you’d know her.\\\"\\n\\\"And even if you did, you’re not to speak to one of them unless it’s to give an order,\\\" says Effie.\"\n",
    "),\n",
    "(\n",
    "    \"Why tributes cannot commit a suicide before the games begin by jumping from the roof at the Training center where u can see the whole city?\",\n",
    "    \"Peeta and I walk to a railing at the edge of the roof. I look straight down the side of the building to the street, which is buzzing with people. You can hear their cars, an occasional shout, and a strange metallic tinkling. In District 12, we’d all be thinking about bed right now.\\n\\\"I asked Cinna why they let us up here. Weren’t they worried that some of the tributes might decide to jump right over the side?\\\" says Peeta.\\n\\\"What’d he say?\\\" I ask.\\n\\\"You can’t,\\\" says Peeta. He holds out his hand into seemingly empty space. There’s a sharp zap and he jerks it back. \\\"Some kind of electric field throws you back on the roof.\\\"\\n\\n\\\"Always worried about our safety,\\\" I say. Even though Cinna has shown Peeta the roof, I wonder if we’re supposed to be up here now, so late and alone.\",\n",
    "    \"\\\"Some kind of electric field throws you back on the roof.\\\"\"\n",
    "),\n",
    "(\n",
    "    \"What are the rules of thu hunger games?\",\n",
    "    \"The rules of the Hunger Games are simple. In punishment for the uprising, each of the twelve districts must provide one girl and one boy, called tributes, to participate. The twenty-four tributes will be imprisoned in a vast outdoor arena that could hold anything from a burning desert to a frozen wasteland. Over a period of several weeks, the competitors must fight to the death. The last tribute standing wins.\",\n",
    "    \"In punishment for the uprising, each of the twelve districts must provide one girl and one boy, called tributes, to participate. The twenty-four tributes will be imprisoned in a vast outdoor arena that could hold anything from a burning desert to a frozen wasteland. Over a period of several weeks, the competitors must fight to the death. The last tribute standing wins.\"\n",
    "),\n",
    "(\n",
    "    \"Why reaping system in \\\"HG\\\" is unfair if it's applied to all citizens?\",\n",
    "    \"But here's the catch. Say you are poor and starving, as we were. You can opt to add your name more times in exchange for tesserae. Each tessera is worth a meagre year's supply of grain and oil for one person. You may do this for each of your family members as well. So, at the age of twelve, I had my name entered four times. Once because I had to, and three times for tesserae for grain and oil for myself, Prim and my mother. In fact, every year I have needed to do this. And the entries are cumulative. So now, at the age of sixteen, my name will be in the reaping twenty times. Gale, who is eighteen and has been either helping or single-handedly feeding a family of five for seven years, will have his name in forty-two times.\",\n",
    "    \"Say you are poor and starving, as we were. You can opt to add your name more times in exchange for tesserae. Each tessera is worth a meagre year's supply of grain and oil for one person. You may do this for each of your family members as well.\"\n",
    ")\n",
    "]"
   ]
  },
  {
   "cell_type": "code",
   "execution_count": 9,
   "metadata": {},
   "outputs": [],
   "source": [
    "queries, documents, answers = [d[0] for d in eval_docs], [d[1] for d in eval_docs], [d[2] for d in eval_docs]"
   ]
  },
  {
   "cell_type": "code",
   "execution_count": 10,
   "metadata": {},
   "outputs": [],
   "source": [
    "def tokenize(input_texts, tokenizer):\n",
    "    batch_dict = tokenizer(input_texts, max_length=512, padding=True, truncation=True, return_tensors='pt')\n",
    "    return batch_dict"
   ]
  },
  {
   "cell_type": "code",
   "execution_count": 11,
   "metadata": {},
   "outputs": [],
   "source": [
    "def average_pool(last_hidden_states: Tensor,\n",
    "                 attention_mask: Tensor) -> Tensor:\n",
    "    last_hidden = last_hidden_states.masked_fill(~attention_mask[..., None].bool(), 0.0)\n",
    "    return last_hidden.sum(dim=1) / attention_mask.sum(dim=1)[..., None]"
   ]
  },
  {
   "cell_type": "code",
   "execution_count": 12,
   "metadata": {},
   "outputs": [
    {
     "data": {
      "text/plain": [
       "torch.Size([6, 214])"
      ]
     },
     "execution_count": 12,
     "metadata": {},
     "output_type": "execute_result"
    }
   ],
   "source": [
    "tokenize(documents, tokenizer=tokenizer)[\"input_ids\"].shape"
   ]
  },
  {
   "cell_type": "code",
   "execution_count": 13,
   "metadata": {},
   "outputs": [],
   "source": [
    "def text_to_rethinkdb_uuid(text, namespace_uuid='91461c99-f89d-49d2-af96-d8e2e14e9b58'):\n",
    "    \"\"\"\n",
    "    \n",
    "    Args:\n",
    "    text (str): Textual content for generating fixed UUID.\n",
    "    namespace_uuid (str): Namespace used by https://rethinkdb.com.\n",
    "    \n",
    "    Returns:\n",
    "    str: Строковое представление детерминированного UUID.\n",
    "    \"\"\"\n",
    "    namespace = uuid.UUID(namespace_uuid)\n",
    "    \n",
    "    deterministic_uuid = uuid.uuid5(namespace, text)\n",
    "    \n",
    "    return str(deterministic_uuid)"
   ]
  },
  {
   "cell_type": "code",
   "execution_count": 14,
   "metadata": {},
   "outputs": [],
   "source": [
    "def ignivec(docs, labels: Optional[List[str]] = None, pref:str=\"\", norm: bool = True, batch_size:int = 2):\n",
    "    wrapped_docs = []\n",
    "    if labels is not None:\n",
    "        it = chunked(zip(docs, labels), n=batch_size)\n",
    "    else:\n",
    "        it = chunked(docs, n=batch_size)\n",
    "    pbar = tqdm(total=len(docs), desc=\" Embeddings for documents\")\n",
    "    for chunk in it:\n",
    "        if labels is not None:\n",
    "            raw_docs, raw_labels = [c[0] for c in chunk], [c[1] for c in chunk]\n",
    "        else:\n",
    "            raw_docs = chunk\n",
    "        _docs = [prefix(x, pref=pref) for x in raw_docs]\n",
    "        batch_dict = tokenize(_docs, tokenizer=tokenizer)\n",
    "        with torch.no_grad():\n",
    "            outputs = model(**batch_dict)\n",
    "            _embeddings = average_pool(outputs.last_hidden_state, batch_dict['attention_mask']).cpu()\n",
    "        if norm:\n",
    "            _embeddings = F.normalize(_embeddings, p=2, dim=len(_embeddings.shape) - 1)\n",
    "        _embeddings = _embeddings.numpy()\n",
    "        if labels is not None:\n",
    "            chunk = [Document.from_dict({\"content\": doc, \"embedding\": list(emb), \"labels\": [text_to_rethinkdb_uuid(label)]}) for doc, label, emb in zip(raw_docs, raw_labels, _embeddings)]\n",
    "        else:\n",
    "            chunk = [Document.from_dict({\"content\": doc, \"embedding\": list(emb)}) for doc, emb in zip(raw_docs, _embeddings)]\n",
    "        wrapped_docs.extend(chunk)\n",
    "        pbar.update(n=len(raw_docs))\n",
    "    return wrapped_docs"
   ]
  },
  {
   "cell_type": "markdown",
   "metadata": {},
   "source": [
    "#### Initialize `WeaviateDocStore` for information retrieval"
   ]
  },
  {
   "cell_type": "code",
   "execution_count": 15,
   "metadata": {},
   "outputs": [],
   "source": [
    "from llma.storing.weaviate import WeaviateDocStore\n",
    "store = WeaviateDocStore(url=\"http://localhost:2211\", collection_name=\"justatom\")"
   ]
  },
  {
   "cell_type": "code",
   "execution_count": 18,
   "metadata": {},
   "outputs": [
    {
     "data": {
      "text/plain": [
       "0"
      ]
     },
     "execution_count": 18,
     "metadata": {},
     "output_type": "execute_result"
    }
   ],
   "source": [
    "store.count_documents()"
   ]
  },
  {
   "cell_type": "markdown",
   "metadata": {},
   "source": [
    "#### Ignite `vectorization` pipeline for each document to have its own semantic vector for `dense` or `hybrid` search"
   ]
  },
  {
   "cell_type": "code",
   "execution_count": 19,
   "metadata": {},
   "outputs": [
    {
     "name": "stderr",
     "output_type": "stream",
     "text": [
      " Embeddings for documents:   0%|          | 0/6 [00:00<?, ?it/s]huggingface/tokenizers: The current process just got forked, after parallelism has already been used. Disabling parallelism to avoid deadlocks...\n",
      "To disable this warning, you can either:\n",
      "\t- Avoid using `tokenizers` before the fork if possible\n",
      "\t- Explicitly set the environment variable TOKENIZERS_PARALLELISM=(true | false)\n",
      " Embeddings for documents: 100%|██████████| 6/6 [00:00<00:00, 14.01it/s]\n"
     ]
    }
   ],
   "source": [
    "# In the model card https://huggingface.co/intfloat/multilingual-e5-base it's said to prefix \"indexed\" passages\n",
    "wrapped_docs = ignivec(docs=documents, labels=queries, pref=\"context:\")"
   ]
  },
  {
   "cell_type": "code",
   "execution_count": 20,
   "metadata": {},
   "outputs": [],
   "source": [
    "assert wrapped_docs[0].meta[\"labels\"][0] == text_to_rethinkdb_uuid(queries[0]), f\"Unexptected error due to labeling errors\""
   ]
  },
  {
   "cell_type": "code",
   "execution_count": 21,
   "metadata": {},
   "outputs": [
    {
     "data": {
      "text/plain": [
       "{'labels': ['3c8c081f-c9be-5d49-a008-e08830736a4f']}"
      ]
     },
     "execution_count": 21,
     "metadata": {},
     "output_type": "execute_result"
    }
   ],
   "source": [
    "wrapped_docs[0].meta"
   ]
  },
  {
   "cell_type": "code",
   "execution_count": 22,
   "metadata": {},
   "outputs": [
    {
     "data": {
      "text/plain": [
       "(768,)"
      ]
     },
     "execution_count": 22,
     "metadata": {},
     "output_type": "execute_result"
    }
   ],
   "source": [
    "np.array(wrapped_docs[0].embedding).shape"
   ]
  },
  {
   "cell_type": "markdown",
   "metadata": {},
   "source": [
    "#### Now run `indexing` pipeline"
   ]
  },
  {
   "cell_type": "code",
   "execution_count": 24,
   "metadata": {},
   "outputs": [
    {
     "name": "stderr",
     "output_type": "stream",
     "text": [
      "\u001b[32m2024-04-30 08:21:13.509\u001b[0m | \u001b[1mINFO    \u001b[0m | \u001b[36m__main__\u001b[0m:\u001b[36m<module>\u001b[0m:\u001b[36m4\u001b[0m - \u001b[1mTotal docs 6\u001b[0m\n"
     ]
    }
   ],
   "source": [
    "if store.count_documents() > 0:\n",
    "    store.delete_all_documents()\n",
    "store.write_documents(documents=wrapped_docs)\n",
    "logger.info(f\"Total docs {store.count_documents()}\")"
   ]
  },
  {
   "cell_type": "markdown",
   "metadata": {},
   "source": [
    "#### Let's ignite vectors for queries to perform semantic `dense` or `hybrid` search."
   ]
  },
  {
   "cell_type": "code",
   "execution_count": 26,
   "metadata": {},
   "outputs": [
    {
     "name": "stderr",
     "output_type": "stream",
     "text": [
      " Embeddings for documents: 100%|██████████| 6/6 [00:00<00:00, 40.30it/s]\n"
     ]
    }
   ],
   "source": [
    "# According to the model card https://huggingface.co/intfloat/multilingual-e5-base each query is meant to be prefixed with `query:`\n",
    "query_vecs = ignivec(queries, pref=\"query:\")"
   ]
  },
  {
   "cell_type": "code",
   "execution_count": 27,
   "metadata": {},
   "outputs": [
    {
     "name": "stderr",
     "output_type": "stream",
     "text": [
      "\u001b[32m2024-04-30 08:23:48.570\u001b[0m | \u001b[1mINFO    \u001b[0m | \u001b[36m__main__\u001b[0m:\u001b[36m<module>\u001b[0m:\u001b[36m2\u001b[0m - \u001b[1mWhat are the rules of thu hunger games?\u001b[0m\n"
     ]
    }
   ],
   "source": [
    "query = query_vecs[-2].content\n",
    "logger.info(query)"
   ]
  },
  {
   "cell_type": "markdown",
   "metadata": {},
   "source": [
    "#### Let's now try different retrievals"
   ]
  },
  {
   "cell_type": "markdown",
   "metadata": {},
   "source": [
    "#### 1. Search `by embedding` only"
   ]
  },
  {
   "cell_type": "code",
   "execution_count": 30,
   "metadata": {},
   "outputs": [
    {
     "data": {
      "text/plain": [
       "[<Document: {'content': 'The rules of the Hunger Games are simple. In punishment for the uprising, each of the twelve districts must provide one girl and one boy, called tributes, to participate. The twenty-four tributes will be imprisoned in a vast outdoor arena that could hold anything from a burning desert to a frozen wasteland. Over a period of several weeks, the competitors must fight to the death. The last tribute standing wins.', 'content_type': 'text', 'score': 0.9229498505592346, 'meta': {'labels': [UUID('cd0f8f56-5595-5673-89d0-c46fb8bf8e8b')], 'dataframe': None}, 'embedding': '<embedding of shape (768,)>', 'id': 'b29a0fed3ec5170b122a7bcaf3496273'}>,\n",
       " <Document: {'content': \"But here's the catch. Say you are poor and starving, as we were. You can opt to add your name more times in exchange for tesserae. Each tessera is worth a meagre year's supply of grain and oil for one person. You may do this for each of your family members as well. So, at the age of twelve, I had my name entered four times. Once because I had to, and three times for tesserae for grain and oil for myself, Prim and my mother. In fact, every year I have needed to do this. And the entries are cumulative. So now, at the age of sixteen, my name will be in the reaping twenty times. Gale, who is eighteen and has been either helping or single-handedly feeding a family of five for seven years, will have his name in forty-two times.\", 'content_type': 'text', 'score': 0.9000443816184998, 'meta': {'labels': [UUID('3b8ee568-1f6a-5585-ba71-fdc4c630afb4')], 'dataframe': None}, 'embedding': '<embedding of shape (768,)>', 'id': '3ed3e540b68cf7e5e6efa3b6af317fb9'}>]"
      ]
     },
     "execution_count": 30,
     "metadata": {},
     "output_type": "execute_result"
    }
   ],
   "source": [
    "store.search_by_embedding(query_embedding=list(query_vecs[-2].embedding), top_k=2)"
   ]
  },
  {
   "cell_type": "markdown",
   "metadata": {},
   "source": [
    "#### 2. Search `by keywords` only"
   ]
  },
  {
   "cell_type": "code",
   "execution_count": 31,
   "metadata": {},
   "outputs": [
    {
     "data": {
      "text/plain": [
       "[<Document: {'content': 'The rules of the Hunger Games are simple. In punishment for the uprising, each of the twelve districts must provide one girl and one boy, called tributes, to participate. The twenty-four tributes will be imprisoned in a vast outdoor arena that could hold anything from a burning desert to a frozen wasteland. Over a period of several weeks, the competitors must fight to the death. The last tribute standing wins.', 'content_type': 'text', 'score': 2.4290518760681152, 'meta': {'labels': [UUID('cd0f8f56-5595-5673-89d0-c46fb8bf8e8b')], 'dataframe': None}, 'embedding': None, 'id': 'b29a0fed3ec5170b122a7bcaf3496273'}>,\n",
       " <Document: {'content': 'When I look back, the four adults are watching me like hawks.\"Don’t be ridiculous, Katniss. How could you possibly know an Avox?\" snaps Effie. \\n\"The very thought.\"\\n\"What’s an Avox?\" I ask stupidly.\\n\"Someone who committed a crime. They cut her tongue so she can’t speak,\" says Haymitch. \\n\"She’s probably a traitor of some sort. Not likely you’d know her.\"\\n\"And even if you did, you’re not to speak to one of them unless it’s to give an order\", says Effie. \"Of course, you don’t really know her.\"', 'content_type': 'text', 'score': 0.4939593970775604, 'meta': {'labels': [UUID('7a12bf99-b622-595c-bbbd-1fb9a3917a22')], 'dataframe': None}, 'embedding': None, 'id': '4d5e7acfbc98f08d49a241d962cb0b2c'}>]"
      ]
     },
     "execution_count": 31,
     "metadata": {},
     "output_type": "execute_result"
    }
   ],
   "source": [
    "store.search_by_keywords(query=query, top_k=2)"
   ]
  },
  {
   "cell_type": "markdown",
   "metadata": {},
   "source": [
    "#### 3. Search by both `keywords` and `embedding` ~ `hybrid` search."
   ]
  },
  {
   "cell_type": "code",
   "execution_count": 37,
   "metadata": {},
   "outputs": [],
   "source": [
    "# See https://weaviate.io/developers/weaviate/search/hybrid"
   ]
  },
  {
   "cell_type": "code",
   "execution_count": 53,
   "metadata": {},
   "outputs": [
    {
     "name": "stderr",
     "output_type": "stream",
     "text": [
      "\u001b[32m2024-04-30 09:17:37.981\u001b[0m | \u001b[1mINFO    \u001b[0m | \u001b[36m__main__\u001b[0m:\u001b[36m<module>\u001b[0m:\u001b[36m8\u001b[0m - \u001b[1m >> | What Peeta Meelark told about Katniss ability to shoot  at the dinner before the 74 hunger games begun?\u001b[0m\n",
      "\u001b[32m2024-04-30 09:17:37.982\u001b[0m | \u001b[1mINFO    \u001b[0m | \u001b[36m__main__\u001b[0m:\u001b[36m<module>\u001b[0m:\u001b[36m9\u001b[0m - \u001b[1m << | \n",
      "DOC[0]\n",
      "I have to think about it. I’ve been putting food on the table for four years. That’s no small task. I’m not as good as my father was, but he’d had more practice. I’ve better aim than Gale, but I’ve had more practice. He’s a genius with traps and snares. \"I’m all right,\" I say.\n",
      "\"She’s excellent,\" says Peeta.\n",
      "\"My father buys her squirrels. He always comments on how the arrows never pierce the body. She hits every one in the eye. It’s the same with the rabbits she sells the butcher. She can even bring down deer.\"\n",
      "---\n",
      "DOC[1]\n",
      "I realize I do want to talk to someone about the girl. Someone who might be able to help me figure out her story. Gale would be my first choice, but it’s unlikely I’ll ever see Gale again. I try to think if telling Peeta could give him any possible advantage over me, but I don’t see how. Maybe sharing a confidence will actually make him believe I see him as a friend.\n",
      "Besides, the idea of the girl with her maimed tongue frightens me. She has reminded me why I’m here. Not to model flashy costumes and eat delicacies. But to die a bloody death while the crowds urge on my killer.\u001b[0m\n"
     ]
    }
   ],
   "source": [
    "alpha = 0.85\n",
    "query = query_vecs[0].content\n",
    "query_emb = query_vecs[0].embedding\n",
    "\n",
    "response = store.search(query=query, query_embedding=list(query_emb), alpha=alpha, top_k=2)\n",
    "\n",
    "response_docs = \"\\n---\".join([f\"\\nDOC[{str(pos)}]\\n\" + x.content for pos, x in enumerate(response)])\n",
    "logger.info(f\" >> | {query}\")\n",
    "logger.info(f\" << | {response_docs}\")"
   ]
  },
  {
   "cell_type": "code",
   "execution_count": 45,
   "metadata": {},
   "outputs": [
    {
     "data": {
      "text/plain": [
       "[0, 1, 2, 3, 4, 5, 6, 7, 8, 9, 10]"
      ]
     },
     "execution_count": 45,
     "metadata": {},
     "output_type": "execute_result"
    }
   ],
   "source": [
    "list(range(11))"
   ]
  },
  {
   "cell_type": "code",
   "execution_count": 117,
   "metadata": {},
   "outputs": [],
   "source": [
    "def evaluate_per_alpha(query: str, query_emb: List[float], store, top_k:int=2) -> Dict[str, Any]:\n",
    "    # hit-rate @ k\n",
    "    # dcg @ k\n",
    "    score = []\n",
    "    for x in range(11):\n",
    "        alpha = x * 1.0 / 10.0\n",
    "        docs = store.search(query=query, query_embedding=list(query_emb),alpha=alpha, top_k=top_k)\n",
    "        status: bool = False\n",
    "        pos: int = 0\n",
    "        while not status and pos < len(docs):\n",
    "            labels = docs[pos].meta[\"labels\"]\n",
    "            if any([str(l) == text_to_rethinkdb_uuid(query) for l in labels]):\n",
    "                status = True\n",
    "            pos += 1\n",
    "        if status:\n",
    "            value = dict(\n",
    "                hit_rate=1,\n",
    "                recall=1.0 / pos * 1.0,\n",
    "                alpha=alpha\n",
    "            )\n",
    "        else:\n",
    "            value = dict(\n",
    "                hit_rate=0,\n",
    "                recall=0,\n",
    "                alpha=alpha\n",
    "            )\n",
    "        score.append(value)\n",
    "    return score"
   ]
  },
  {
   "cell_type": "code",
   "execution_count": 118,
   "metadata": {},
   "outputs": [],
   "source": [
    "query, query_emb = queries[0], query_vecs[0].embedding"
   ]
  },
  {
   "cell_type": "code",
   "execution_count": 122,
   "metadata": {},
   "outputs": [],
   "source": [
    "eval_result = evaluate_per_alpha(query=query, query_emb=query_emb, store=store, top_k=5)"
   ]
  },
  {
   "cell_type": "code",
   "execution_count": 124,
   "metadata": {},
   "outputs": [
    {
     "data": {
      "text/plain": [
       "[{'hit_rate': 1, 'recall': 0.25, 'alpha': 0.0},\n",
       " {'hit_rate': 1, 'recall': 0.25, 'alpha': 0.1},\n",
       " {'hit_rate': 1, 'recall': 0.25, 'alpha': 0.2},\n",
       " {'hit_rate': 1, 'recall': 0.25, 'alpha': 0.3},\n",
       " {'hit_rate': 1, 'recall': 0.3333333333333333, 'alpha': 0.4},\n",
       " {'hit_rate': 1, 'recall': 0.3333333333333333, 'alpha': 0.5},\n",
       " {'hit_rate': 1, 'recall': 1.0, 'alpha': 0.6},\n",
       " {'hit_rate': 1, 'recall': 1.0, 'alpha': 0.7},\n",
       " {'hit_rate': 1, 'recall': 1.0, 'alpha': 0.8},\n",
       " {'hit_rate': 1, 'recall': 1.0, 'alpha': 0.9},\n",
       " {'hit_rate': 1, 'recall': 1.0, 'alpha': 1.0}]"
      ]
     },
     "execution_count": 124,
     "metadata": {},
     "output_type": "execute_result"
    }
   ],
   "source": [
    "# for one specific query\n",
    "eval_result"
   ]
  },
  {
   "cell_type": "code",
   "execution_count": 125,
   "metadata": {},
   "outputs": [],
   "source": [
    "# let's now average those results for entire dataset\n",
    "eval_results = []\n",
    "for query, query_wrap in zip(queries, query_vecs):\n",
    "    query_emb = query_wrap.embedding\n",
    "    eval_result = evaluate_per_alpha(query=query, query_emb=query_emb, store=store, top_k=5)\n",
    "    eval_results.extend(eval_result)"
   ]
  },
  {
   "cell_type": "code",
   "execution_count": 131,
   "metadata": {},
   "outputs": [],
   "source": [
    "### let's average\n",
    "pl_view = pl.from_dicts(eval_results)"
   ]
  },
  {
   "cell_type": "code",
   "execution_count": 132,
   "metadata": {},
   "outputs": [
    {
     "data": {
      "text/html": [
       "<div><style>\n",
       ".dataframe > thead > tr,\n",
       ".dataframe > tbody > tr {\n",
       "  text-align: right;\n",
       "  white-space: pre-wrap;\n",
       "}\n",
       "</style>\n",
       "<small>shape: (5, 3)</small><table border=\"1\" class=\"dataframe\"><thead><tr><th>hit_rate</th><th>recall</th><th>alpha</th></tr><tr><td>i64</td><td>f64</td><td>f64</td></tr></thead><tbody><tr><td>1</td><td>0.25</td><td>0.0</td></tr><tr><td>1</td><td>0.25</td><td>0.1</td></tr><tr><td>1</td><td>0.25</td><td>0.2</td></tr><tr><td>1</td><td>0.25</td><td>0.3</td></tr><tr><td>1</td><td>0.333333</td><td>0.4</td></tr></tbody></table></div>"
      ],
      "text/plain": [
       "shape: (5, 3)\n",
       "┌──────────┬──────────┬───────┐\n",
       "│ hit_rate ┆ recall   ┆ alpha │\n",
       "│ ---      ┆ ---      ┆ ---   │\n",
       "│ i64      ┆ f64      ┆ f64   │\n",
       "╞══════════╪══════════╪═══════╡\n",
       "│ 1        ┆ 0.25     ┆ 0.0   │\n",
       "│ 1        ┆ 0.25     ┆ 0.1   │\n",
       "│ 1        ┆ 0.25     ┆ 0.2   │\n",
       "│ 1        ┆ 0.25     ┆ 0.3   │\n",
       "│ 1        ┆ 0.333333 ┆ 0.4   │\n",
       "└──────────┴──────────┴───────┘"
      ]
     },
     "execution_count": 132,
     "metadata": {},
     "output_type": "execute_result"
    }
   ],
   "source": [
    "pl_view.head()"
   ]
  },
  {
   "cell_type": "code",
   "execution_count": 136,
   "metadata": {},
   "outputs": [],
   "source": [
    "pl_eval_results = pl_view.with_row_count().with_columns([\n",
    "    pl.mean(\"hit_rate\").over(\"alpha\").alias(\"mean_hit_rate\"),\n",
    "    pl.mean(\"recall\").over(\"alpha\").alias(\"mean_recall\"),\n",
    "    pl.first(\"row_nr\").over(\"alpha\").alias(\"mask\")\n",
    "]).filter(pl.col(\"mask\") == pl.col(\"row_nr\"))"
   ]
  },
  {
   "cell_type": "code",
   "execution_count": 137,
   "metadata": {},
   "outputs": [
    {
     "data": {
      "text/html": [
       "<div><style>\n",
       ".dataframe > thead > tr,\n",
       ".dataframe > tbody > tr {\n",
       "  text-align: right;\n",
       "  white-space: pre-wrap;\n",
       "}\n",
       "</style>\n",
       "<small>shape: (11, 7)</small><table border=\"1\" class=\"dataframe\"><thead><tr><th>row_nr</th><th>hit_rate</th><th>recall</th><th>alpha</th><th>mean_hit_rate</th><th>mean_recall</th><th>mask</th></tr><tr><td>u32</td><td>i64</td><td>f64</td><td>f64</td><td>f64</td><td>f64</td><td>u32</td></tr></thead><tbody><tr><td>0</td><td>1</td><td>0.25</td><td>0.0</td><td>1.0</td><td>0.625</td><td>0</td></tr><tr><td>1</td><td>1</td><td>0.25</td><td>0.1</td><td>1.0</td><td>0.625</td><td>1</td></tr><tr><td>2</td><td>1</td><td>0.25</td><td>0.2</td><td>1.0</td><td>0.708333</td><td>2</td></tr><tr><td>3</td><td>1</td><td>0.25</td><td>0.3</td><td>1.0</td><td>0.791667</td><td>3</td></tr><tr><td>4</td><td>1</td><td>0.333333</td><td>0.4</td><td>1.0</td><td>0.888889</td><td>4</td></tr><tr><td>5</td><td>1</td><td>0.333333</td><td>0.5</td><td>1.0</td><td>0.888889</td><td>5</td></tr><tr><td>6</td><td>1</td><td>1.0</td><td>0.6</td><td>1.0</td><td>1.0</td><td>6</td></tr><tr><td>7</td><td>1</td><td>1.0</td><td>0.7</td><td>1.0</td><td>1.0</td><td>7</td></tr><tr><td>8</td><td>1</td><td>1.0</td><td>0.8</td><td>1.0</td><td>1.0</td><td>8</td></tr><tr><td>9</td><td>1</td><td>1.0</td><td>0.9</td><td>1.0</td><td>1.0</td><td>9</td></tr><tr><td>10</td><td>1</td><td>1.0</td><td>1.0</td><td>1.0</td><td>1.0</td><td>10</td></tr></tbody></table></div>"
      ],
      "text/plain": [
       "shape: (11, 7)\n",
       "┌────────┬──────────┬────────┬───────┬───────────────┬─────────────┬──────┐\n",
       "│ row_nr ┆ hit_rate ┆ recall ┆ alpha ┆ mean_hit_rate ┆ mean_recall ┆ mask │\n",
       "│ ---    ┆ ---      ┆ ---    ┆ ---   ┆ ---           ┆ ---         ┆ ---  │\n",
       "│ u32    ┆ i64      ┆ f64    ┆ f64   ┆ f64           ┆ f64         ┆ u32  │\n",
       "╞════════╪══════════╪════════╪═══════╪═══════════════╪═════════════╪══════╡\n",
       "│ 0      ┆ 1        ┆ 0.25   ┆ 0.0   ┆ 1.0           ┆ 0.625       ┆ 0    │\n",
       "│ 1      ┆ 1        ┆ 0.25   ┆ 0.1   ┆ 1.0           ┆ 0.625       ┆ 1    │\n",
       "│ 2      ┆ 1        ┆ 0.25   ┆ 0.2   ┆ 1.0           ┆ 0.708333    ┆ 2    │\n",
       "│ 3      ┆ 1        ┆ 0.25   ┆ 0.3   ┆ 1.0           ┆ 0.791667    ┆ 3    │\n",
       "│ …      ┆ …        ┆ …      ┆ …     ┆ …             ┆ …           ┆ …    │\n",
       "│ 7      ┆ 1        ┆ 1.0    ┆ 0.7   ┆ 1.0           ┆ 1.0         ┆ 7    │\n",
       "│ 8      ┆ 1        ┆ 1.0    ┆ 0.8   ┆ 1.0           ┆ 1.0         ┆ 8    │\n",
       "│ 9      ┆ 1        ┆ 1.0    ┆ 0.9   ┆ 1.0           ┆ 1.0         ┆ 9    │\n",
       "│ 10     ┆ 1        ┆ 1.0    ┆ 1.0   ┆ 1.0           ┆ 1.0         ┆ 10   │\n",
       "└────────┴──────────┴────────┴───────┴───────────────┴─────────────┴──────┘"
      ]
     },
     "execution_count": 137,
     "metadata": {},
     "output_type": "execute_result"
    }
   ],
   "source": [
    "pl_eval_results"
   ]
  },
  {
   "cell_type": "code",
   "execution_count": null,
   "metadata": {},
   "outputs": [],
   "source": []
  }
 ],
 "metadata": {
  "kernelspec": {
   "display_name": "polaroids",
   "language": "python",
   "name": "python3"
  },
  "language_info": {
   "codemirror_mode": {
    "name": "ipython",
    "version": 3
   },
   "file_extension": ".py",
   "mimetype": "text/x-python",
   "name": "python",
   "nbconvert_exporter": "python",
   "pygments_lexer": "ipython3",
   "version": "3.11.5"
  }
 },
 "nbformat": 4,
 "nbformat_minor": 2
}
